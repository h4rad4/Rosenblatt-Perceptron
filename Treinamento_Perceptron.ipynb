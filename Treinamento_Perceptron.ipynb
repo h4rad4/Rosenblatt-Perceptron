{
 "cells": [
  {
   "cell_type": "code",
   "execution_count": 1,
   "id": "ac4b1875-b4f2-4af0-a911-fcf162a76135",
   "metadata": {},
   "outputs": [],
   "source": [
    "%run Dados.ipynb"
   ]
  },
  {
   "cell_type": "code",
   "execution_count": 2,
   "id": "0fa76950-8f34-4436-8f66-db99d1232dd1",
   "metadata": {},
   "outputs": [
    {
     "name": "stdout",
     "output_type": "stream",
     "text": [
      "Requirement already satisfied: matplotlib in c:\\users\\user\\anaconda3\\envs\\redesneurais\\lib\\site-packages (3.10.1)\n",
      "Requirement already satisfied: scikit-learn in c:\\users\\user\\anaconda3\\envs\\redesneurais\\lib\\site-packages (1.6.1)\n",
      "Requirement already satisfied: contourpy>=1.0.1 in c:\\users\\user\\anaconda3\\envs\\redesneurais\\lib\\site-packages (from matplotlib) (1.3.1)\n",
      "Requirement already satisfied: cycler>=0.10 in c:\\users\\user\\anaconda3\\envs\\redesneurais\\lib\\site-packages (from matplotlib) (0.12.1)\n",
      "Requirement already satisfied: fonttools>=4.22.0 in c:\\users\\user\\anaconda3\\envs\\redesneurais\\lib\\site-packages (from matplotlib) (4.57.0)\n",
      "Requirement already satisfied: kiwisolver>=1.3.1 in c:\\users\\user\\anaconda3\\envs\\redesneurais\\lib\\site-packages (from matplotlib) (1.4.8)\n",
      "Requirement already satisfied: numpy>=1.23 in c:\\users\\user\\anaconda3\\envs\\redesneurais\\lib\\site-packages (from matplotlib) (2.2.4)\n",
      "Requirement already satisfied: packaging>=20.0 in c:\\users\\user\\appdata\\roaming\\python\\python313\\site-packages (from matplotlib) (24.2)\n",
      "Requirement already satisfied: pillow>=8 in c:\\users\\user\\anaconda3\\envs\\redesneurais\\lib\\site-packages (from matplotlib) (11.1.0)\n",
      "Requirement already satisfied: pyparsing>=2.3.1 in c:\\users\\user\\anaconda3\\envs\\redesneurais\\lib\\site-packages (from matplotlib) (3.2.3)\n",
      "Requirement already satisfied: python-dateutil>=2.7 in c:\\users\\user\\anaconda3\\envs\\redesneurais\\lib\\site-packages (from matplotlib) (2.9.0.post0)\n",
      "Requirement already satisfied: scipy>=1.6.0 in c:\\users\\user\\anaconda3\\envs\\redesneurais\\lib\\site-packages (from scikit-learn) (1.15.2)\n",
      "Requirement already satisfied: joblib>=1.2.0 in c:\\users\\user\\anaconda3\\envs\\redesneurais\\lib\\site-packages (from scikit-learn) (1.4.2)\n",
      "Requirement already satisfied: threadpoolctl>=3.1.0 in c:\\users\\user\\anaconda3\\envs\\redesneurais\\lib\\site-packages (from scikit-learn) (3.6.0)\n",
      "Requirement already satisfied: six>=1.5 in c:\\users\\user\\anaconda3\\envs\\redesneurais\\lib\\site-packages (from python-dateutil>=2.7->matplotlib) (1.16.0)\n"
     ]
    }
   ],
   "source": [
    "!pip install matplotlib scikit-learn"
   ]
  },
  {
   "cell_type": "code",
   "execution_count": 3,
   "id": "3f248dbe-bd70-46c9-9456-0164dda62bd2",
   "metadata": {},
   "outputs": [],
   "source": [
    "import pandas as pd\n",
    "import matplotlib.pyplot as plt\n",
    "import sklearn"
   ]
  },
  {
   "cell_type": "code",
   "execution_count": 4,
   "id": "1116ff95-98b0-4311-ab50-636ace96257b",
   "metadata": {},
   "outputs": [
    {
     "name": "stdout",
     "output_type": "stream",
     "text": [
      "[[[ 0.13658687 -0.16460088  0.        ]]\n",
      "\n",
      " [[-0.0228559  -0.01094684  0.        ]]\n",
      "\n",
      " [[-0.02654897  0.00582183  0.        ]]\n",
      "\n",
      " ...\n",
      "\n",
      " [[ 0.99007304  0.8921047   1.        ]]\n",
      "\n",
      " [[ 0.91691441  1.15684083  1.        ]]\n",
      "\n",
      " [[ 0.99252852  1.06937678  1.        ]]]\n"
     ]
    }
   ],
   "source": [
    "print(dados)"
   ]
  },
  {
   "cell_type": "code",
   "execution_count": 5,
   "id": "27a68695-9d34-4343-9274-4a2ca249f83f",
   "metadata": {},
   "outputs": [],
   "source": [
    "dadosReshape = dados.reshape (600,3)"
   ]
  },
  {
   "cell_type": "code",
   "execution_count": 6,
   "id": "c5162fb1-0d0a-406f-bca9-de3458f6f18f",
   "metadata": {},
   "outputs": [],
   "source": [
    "df = pd.DataFrame (dadosReshape)"
   ]
  },
  {
   "cell_type": "code",
   "execution_count": 7,
   "id": "6c99ca7f-4101-48f2-b9c3-ccc260813952",
   "metadata": {},
   "outputs": [
    {
     "data": {
      "text/html": [
       "<div>\n",
       "<style scoped>\n",
       "    .dataframe tbody tr th:only-of-type {\n",
       "        vertical-align: middle;\n",
       "    }\n",
       "\n",
       "    .dataframe tbody tr th {\n",
       "        vertical-align: top;\n",
       "    }\n",
       "\n",
       "    .dataframe thead th {\n",
       "        text-align: right;\n",
       "    }\n",
       "</style>\n",
       "<table border=\"1\" class=\"dataframe\">\n",
       "  <thead>\n",
       "    <tr style=\"text-align: right;\">\n",
       "      <th></th>\n",
       "      <th>0</th>\n",
       "      <th>1</th>\n",
       "      <th>2</th>\n",
       "    </tr>\n",
       "  </thead>\n",
       "  <tbody>\n",
       "    <tr>\n",
       "      <th>0</th>\n",
       "      <td>0.136587</td>\n",
       "      <td>-0.164601</td>\n",
       "      <td>0.0</td>\n",
       "    </tr>\n",
       "    <tr>\n",
       "      <th>1</th>\n",
       "      <td>-0.022856</td>\n",
       "      <td>-0.010947</td>\n",
       "      <td>0.0</td>\n",
       "    </tr>\n",
       "    <tr>\n",
       "      <th>2</th>\n",
       "      <td>-0.026549</td>\n",
       "      <td>0.005822</td>\n",
       "      <td>0.0</td>\n",
       "    </tr>\n",
       "    <tr>\n",
       "      <th>3</th>\n",
       "      <td>0.074574</td>\n",
       "      <td>0.065032</td>\n",
       "      <td>0.0</td>\n",
       "    </tr>\n",
       "    <tr>\n",
       "      <th>4</th>\n",
       "      <td>-0.012770</td>\n",
       "      <td>-0.073844</td>\n",
       "      <td>0.0</td>\n",
       "    </tr>\n",
       "    <tr>\n",
       "      <th>...</th>\n",
       "      <td>...</td>\n",
       "      <td>...</td>\n",
       "      <td>...</td>\n",
       "    </tr>\n",
       "    <tr>\n",
       "      <th>595</th>\n",
       "      <td>0.876007</td>\n",
       "      <td>0.985030</td>\n",
       "      <td>1.0</td>\n",
       "    </tr>\n",
       "    <tr>\n",
       "      <th>596</th>\n",
       "      <td>0.887110</td>\n",
       "      <td>1.156860</td>\n",
       "      <td>1.0</td>\n",
       "    </tr>\n",
       "    <tr>\n",
       "      <th>597</th>\n",
       "      <td>0.990073</td>\n",
       "      <td>0.892105</td>\n",
       "      <td>1.0</td>\n",
       "    </tr>\n",
       "    <tr>\n",
       "      <th>598</th>\n",
       "      <td>0.916914</td>\n",
       "      <td>1.156841</td>\n",
       "      <td>1.0</td>\n",
       "    </tr>\n",
       "    <tr>\n",
       "      <th>599</th>\n",
       "      <td>0.992529</td>\n",
       "      <td>1.069377</td>\n",
       "      <td>1.0</td>\n",
       "    </tr>\n",
       "  </tbody>\n",
       "</table>\n",
       "<p>600 rows × 3 columns</p>\n",
       "</div>"
      ],
      "text/plain": [
       "            0         1    2\n",
       "0    0.136587 -0.164601  0.0\n",
       "1   -0.022856 -0.010947  0.0\n",
       "2   -0.026549  0.005822  0.0\n",
       "3    0.074574  0.065032  0.0\n",
       "4   -0.012770 -0.073844  0.0\n",
       "..        ...       ...  ...\n",
       "595  0.876007  0.985030  1.0\n",
       "596  0.887110  1.156860  1.0\n",
       "597  0.990073  0.892105  1.0\n",
       "598  0.916914  1.156841  1.0\n",
       "599  0.992529  1.069377  1.0\n",
       "\n",
       "[600 rows x 3 columns]"
      ]
     },
     "execution_count": 7,
     "metadata": {},
     "output_type": "execute_result"
    }
   ],
   "source": [
    "df"
   ]
  },
  {
   "cell_type": "code",
   "execution_count": 8,
   "id": "c1f08724-01de-48c8-a898-6e93297f869e",
   "metadata": {},
   "outputs": [],
   "source": [
    "X = dadosReshape[:, :2]\n",
    "y = dadosReshape[:, 2]"
   ]
  },
  {
   "cell_type": "code",
   "execution_count": 9,
   "id": "4a06a853-aad6-4509-974b-8d516b338144",
   "metadata": {},
   "outputs": [],
   "source": [
    "X = np.hstack((X, -1 * np.ones((X.shape[0], 1))))"
   ]
  },
  {
   "cell_type": "markdown",
   "id": "7748724b-36b5-4856-b8dc-99da549485c9",
   "metadata": {},
   "source": [
    "Inicializando os Pesos"
   ]
  },
  {
   "cell_type": "markdown",
   "id": "b6d3962b-ba0b-40be-8051-eed7923c52d8",
   "metadata": {},
   "source": [
    "Função Degrau"
   ]
  },
  {
   "cell_type": "code",
   "execution_count": 10,
   "id": "061065d8-fb4e-48c9-840e-8bb2df5f6970",
   "metadata": {},
   "outputs": [],
   "source": [
    "def step_function(u):\n",
    "    return 1 if u >= 0 else 0"
   ]
  },
  {
   "cell_type": "markdown",
   "id": "970981d2-435e-4705-8e64-25df36fd8d2c",
   "metadata": {},
   "source": [
    "Treinamento"
   ]
  },
  {
   "cell_type": "code",
   "execution_count": 11,
   "id": "e636a9a9-cffd-4fac-815e-05527301043b",
   "metadata": {},
   "outputs": [],
   "source": [
    "def treinamento_perceptron(X, y):\n",
    "\n",
    "    np.random.seed(69)\n",
    "    pesos = np.random.uniform(-0.5, 0.5, X.shape[1]) # tem q ser rodado no começo do algoritmo\n",
    "    aprendizado = 0.1\n",
    "    convergencia = False\n",
    "    epoca = 0\n",
    "    # aqui eh a função delta -> \n",
    "    while not convergencia:\n",
    "        convergencia = True\n",
    "        erros = 0\n",
    "    \n",
    "        for i in range(len(X)): \n",
    "            u = np.dot(X[i], pesos)\n",
    "            y_previsao = step_function(u)\n",
    "    \n",
    "    \n",
    "            erro = y[i] - y_previsao\n",
    "    \n",
    "            if erro !=0:\n",
    "                convergencia = False\n",
    "                erros += 1\n",
    "                pesos += aprendizado * erro * X[i]\n",
    "    \n",
    "        epoca += 1\n",
    "    \n",
    "    return pesos, epoca"
   ]
  },
  {
   "cell_type": "code",
   "execution_count": 12,
   "id": "a39cc37f-e290-462c-9389-eb462bf9ec8d",
   "metadata": {},
   "outputs": [
    {
     "data": {
      "text/plain": [
       "21"
      ]
     },
     "execution_count": 12,
     "metadata": {},
     "output_type": "execute_result"
    }
   ],
   "source": [
    "pesos, epocas = treinamento_perceptron(X, y)\n",
    "\n",
    "epocas"
   ]
  }
 ],
 "metadata": {
  "kernelspec": {
   "display_name": "Python 3 (ipykernel)",
   "language": "python",
   "name": "python3"
  },
  "language_info": {
   "codemirror_mode": {
    "name": "ipython",
    "version": 3
   },
   "file_extension": ".py",
   "mimetype": "text/x-python",
   "name": "python",
   "nbconvert_exporter": "python",
   "pygments_lexer": "ipython3",
   "version": "3.12.9"
  }
 },
 "nbformat": 4,
 "nbformat_minor": 5
}
