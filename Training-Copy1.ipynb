{
 "cells": [
  {
   "cell_type": "markdown",
   "metadata": {},
   "source": [
    "Neste notebook, será implementado o algoritmo de treinamento do Perceptron."
   ]
  },
  {
   "cell_type": "code",
   "execution_count": 71,
   "metadata": {},
   "outputs": [
    {
     "name": "stdout",
     "output_type": "stream",
     "text": [
      "Collecting prettytable\n",
      "  Downloading prettytable-3.16.0-py3-none-any.whl.metadata (33 kB)\n",
      "Requirement already satisfied: wcwidth in /home/dialog/miniconda3/envs/redesneurais/lib/python3.13/site-packages (from prettytable) (0.2.5)\n",
      "Downloading prettytable-3.16.0-py3-none-any.whl (33 kB)\n",
      "Installing collected packages: prettytable\n",
      "Successfully installed prettytable-3.16.0\n"
     ]
    }
   ],
   "source": [
    "!pip install prettytable"
   ]
  },
  {
   "cell_type": "code",
   "execution_count": 72,
   "metadata": {},
   "outputs": [],
   "source": [
    "import numpy as np\n",
    "import pandas as pd\n",
    "from Perceptron import Perceptron\n",
    "from Activation import Degree\n",
    "from prettytable import PrettyTable "
   ]
  },
  {
   "cell_type": "markdown",
   "metadata": {},
   "source": [
    "## Datasets"
   ]
  },
  {
   "cell_type": "markdown",
   "metadata": {},
   "source": [
    "Serão utilizados o 'dataAll.txt' para o treinamento do percepetron e o 'dataHoldout.txt' para validação Holdout em Problema Não-Linearmente Separável.\n",
    "\n",
    "O arquivo de exemplos utilizado para a experimentação será 'data1.txt', conforme o cálculo do identificador da equipe a seguir:\n",
    "\n",
    "I. $matA + matB + matC + matD = 17$\n",
    "\n",
    "II. $17 \\bmod 4 = 1$\n"
   ]
  },
  {
   "cell_type": "code",
   "execution_count": 13,
   "metadata": {},
   "outputs": [
    {
     "data": {
      "text/plain": [
       "(array([-363.7884,  244.1423,    0.    , ..., -140.147 ,  734.0983,\n",
       "           0.    ], shape=(3000,)),\n",
       " array([-0.29322959, -0.09065359,  1.        , ...,  0.72930655,\n",
       "         0.93224271,  0.        ], shape=(2400,)),\n",
       " array([ 0.13658687, -0.16460088,  0.        , ...,  0.99252852,\n",
       "         1.06937678,  1.        ], shape=(1800,)))"
      ]
     },
     "execution_count": 13,
     "metadata": {},
     "output_type": "execute_result"
    }
   ],
   "source": [
    "## Inicialização dos dados\n",
    "examples = 'data/dataAll.txt'\n",
    "examplesHoldout = 'data/dataHoldout.txt'\n",
    "examplesExperimentation = 'data/data1.txt'\n",
    "\n",
    "nparray = np.fromfile(examples)\n",
    "exparray = np.fromfile(examplesExperimentation)\n",
    "hlarray = np.fromfile(examplesHoldout)\n",
    "\n",
    "nparray, hlarray, exparray"
   ]
  },
  {
   "cell_type": "code",
   "execution_count": 14,
   "metadata": {},
   "outputs": [
    {
     "data": {
      "text/plain": [
       "(array([[-363.7884,  244.1423,    0.    ],\n",
       "        [ 328.7572, -256.7658,    1.    ],\n",
       "        [-164.9827,  613.2164,    0.    ],\n",
       "        ...,\n",
       "        [ 872.4311,  669.1192,    1.    ],\n",
       "        [ 822.6894, -702.6489,    1.    ],\n",
       "        [-140.147 ,  734.0983,    0.    ]], shape=(1000, 3)),\n",
       " array([[-0.29322959, -0.09065359,  1.        ],\n",
       "        [ 0.07988839,  0.21101297,  1.        ],\n",
       "        [-0.07825563, -0.08083512,  1.        ],\n",
       "        ...,\n",
       "        [ 0.65980493,  1.05876739,  0.        ],\n",
       "        [ 1.09867123,  0.87404891,  0.        ],\n",
       "        [ 0.72930655,  0.93224271,  0.        ]], shape=(800, 3)),\n",
       " array([[ 0.13658687, -0.16460088,  0.        ],\n",
       "        [-0.0228559 , -0.01094684,  0.        ],\n",
       "        [-0.02654897,  0.00582183,  0.        ],\n",
       "        ...,\n",
       "        [ 0.99007304,  0.8921047 ,  1.        ],\n",
       "        [ 0.91691441,  1.15684083,  1.        ],\n",
       "        [ 0.99252852,  1.06937678,  1.        ]], shape=(600, 3)))"
      ]
     },
     "execution_count": 14,
     "metadata": {},
     "output_type": "execute_result"
    }
   ],
   "source": [
    "# Formatando o array de entrada\n",
    "data = nparray.reshape(1000,3)\n",
    "dataHoldout = hlarray.reshape(800,3)\n",
    "dataExperimentation = exparray.reshape(600,3)\n",
    "data, dataHoldout , dataExperimentation"
   ]
  },
  {
   "cell_type": "markdown",
   "metadata": {},
   "source": [
    "## Treinamento para Problema Linearmente Separável"
   ]
  },
  {
   "cell_type": "code",
   "execution_count": 76,
   "metadata": {},
   "outputs": [],
   "source": [
    "def treinamento_perceptron(data, weight_range=None, learning_rate=None):\n",
    "    X = data[:, :2]\n",
    "    y = data[:, 2]\n",
    "    \n",
    "    #print(f'X: {X[:5]}\\n')\n",
    "    #print(f'Y: {y[:5]}')\n",
    "\n",
    "    p= Perceptron()\n",
    "    activation= Degree()\n",
    "\n",
    "    if weight_range:\n",
    "        p.w = np.random.uniform(-weight_range, weight_range, 3)\n",
    "    if learning_rate:\n",
    "        p.learning_rate = learning_rate\n",
    "        \n",
    "    \n",
    "    \n",
    "    x = np.insert(X, 0, 1, axis=1) # inserindo o viés\n",
    "    \n",
    "    epoch= 0\n",
    "    convergence= False\n",
    "    adjusts = 0\n",
    "    \n",
    "    while not convergence:\n",
    "        convergence = True\n",
    "        \n",
    "    \n",
    "        for i in range(len(X)):\n",
    "            u = np.dot(x[i], p.w)\n",
    "\n",
    "            y_predicted = activation.f(u)\n",
    "            error = y[i] - y_predicted\n",
    "            \n",
    "            \n",
    "            if error != 0:\n",
    "                convergence = False\n",
    "                p.w = p.w + p.learning_rate * error * x[i]\n",
    "                #print(p.w)\n",
    "                adjusts += 1\n",
    "            \n",
    "    \n",
    "        epoch += 1\n",
    "    \n",
    "    #print(f'Convergência em {epoch} épocas')\n",
    "    #print(f'{adjusts} ajustes feitos')\n",
    "    return epoch, adjusts"
   ]
  },
  {
   "cell_type": "code",
   "execution_count": 77,
   "metadata": {},
   "outputs": [
    {
     "data": {
      "text/plain": [
       "(4, 55)"
      ]
     },
     "execution_count": 77,
     "metadata": {},
     "output_type": "execute_result"
    }
   ],
   "source": [
    "treinamento_perceptron(data)"
   ]
  },
  {
   "cell_type": "markdown",
   "metadata": {},
   "source": [
    "## Experimentação"
   ]
  },
  {
   "cell_type": "code",
   "execution_count": 164,
   "metadata": {},
   "outputs": [],
   "source": [
    "\n",
    "def experimentacao(list_learning_rates, list_weight_range):\n",
    "    dict_configs = {}\n",
    "    index = 0\n",
    "    for learning_rate in list_learning_rates:\n",
    "        for weight_range in list_weight_range:\n",
    "            \n",
    "            list_adjusts = []\n",
    "            list_epochs = []\n",
    "            \n",
    "            for i in range(10):\n",
    "                \n",
    "                epoch, adjusts = treinamento_perceptron(dataExperimentation,weight_range=weight_range, learning_rate=learning_rate)\n",
    "                list_adjusts.append(adjusts)\n",
    "                list_epochs.append(epoch)\n",
    "                \n",
    "            dict_configs[index] = {'learning_rate':learning_rate,\n",
    "                                   'weight_range': weight_range,\n",
    "                                   'mean_adjusts': np.round(np.mean(list_adjusts),2), \n",
    "                                   'std_adjusts': np.round(np.std(list_adjusts),2),\n",
    "                                   'min_epoch': np.min(list_epochs)}\n",
    "            index += 1\n",
    "    return dict_configs\n",
    "            "
   ]
  },
  {
   "cell_type": "code",
   "execution_count": 165,
   "metadata": {},
   "outputs": [],
   "source": [
    "dict_configs = experimentacao(list_learning_rates= [0.4,0.1,0.01],list_weight_range= [100,0.5])"
   ]
  },
  {
   "cell_type": "code",
   "execution_count": 166,
   "metadata": {},
   "outputs": [
    {
     "name": "stdout",
     "output_type": "stream",
     "text": [
      "+-------------------------------------------------------------------------------------------------------------+\n",
      "                                                 Configurações                                                 \n",
      "+---------------------+--------------------+-----------------------+------------------------------------------+\n",
      "  Taxa de Aprendizado   Intervalo de Pesos   Quantidade de Ajustes   Menor número de épocas para convergência  \n",
      "+---------------------+--------------------+-----------------------+------------------------------------------+\n",
      "        η = 0.4            (-100,+100)           320.5 ± 155.21                         4                      \n",
      "        η = 0.4            (-0.5,+0.5)            47.8 ± 14.01                          12                     \n",
      "        η = 0.1            (-100,+100)          1347.7 ± 766.02                         25                     \n",
      "        η = 0.1            (-0.5,+0.5)            30.1 ± 15.69                          3                      \n",
      "        η = 0.01           (-100,+100)         13244.5 ± 5588.03                        38                     \n",
      "        η = 0.01           (-0.5,+0.5)            78.8 ± 37.25                          1                      \n",
      "+---------------------+--------------------+-----------------------+------------------------------------------+\n"
     ]
    }
   ],
   "source": [
    "from prettytable import PrettyTable, ALL\n",
    "\n",
    "# Criar objeto PrettyTable\n",
    "table = PrettyTable()\n",
    "\n",
    "# Definir título e cabeçalhos\n",
    "table.title = \"Configurações\"\n",
    "table.field_names = [\n",
    "    \"Taxa de Aprendizado\", \n",
    "    \"Intervalo de Pesos\",\n",
    "    \"Quantidade de Ajustes\",\n",
    "    \"Menor número de épocas para convergência\"\n",
    "]\n",
    "\n",
    "  # Adiciona linhas horizontais entre as linhas de dados\n",
    "table.vertical_char = ' '  # Remove as colunas laterais \"|\n",
    "\n",
    "# Adicionar linhas\n",
    "for key, value in dict_configs.items():\n",
    "    table.add_row([\n",
    "        f\"η = {value['learning_rate']}\",\n",
    "        f\"(-{value['weight_range']},+{value['weight_range']})\",\n",
    "        f\"{value['mean_adjusts']} ± {value['std_adjusts']}\",\n",
    "        f\"{value['min_epoch']}\"\n",
    "    ])\n",
    "\n",
    "# Imprimir tabela\n",
    "print(table)\n"
   ]
  },
  {
   "cell_type": "markdown",
   "metadata": {},
   "source": [
    "## ESSE TEXTO PODE SOFRER ALTERAÇÕES POIS OS PESOS INCIAIS SÂO ALEATORIOS\n",
    "Ao analisar os resultados obtidos na experimentação,foi observado que a configuração com taxa de aprendizado de 0,01 e intervalo de peso (-0,5, +0,5) apresentou o melhor desempenho. Essa configuração precisou apenas de 1 época e 78,8 ± 37,25 ajustes por treinamento para encontrar os pesos adequados e definir uma reta capaz de separar os dados.\n",
    "\n",
    "Por outro lado, o pior desempenho foi observado na configuração com taxa de aprendizado de 0,01 e intervalo de peso (-100, +100). E nesse caso, foram necessárias 38 épocas e  13.244.5 ± 5.588.03  ajustes para se obter um resultado satisfatório.\n",
    "\n",
    "Vale lemrbar que os resultados podem variar entre diferentes execuções do experimento, pois a inicialização dos pesos é feita de forma aleatória. Isso significa que, dependendo dos valores inicializados nos pesos, o modelo pode precisar de mais ou menos ajustes para convergir para uma solução."
   ]
  },
  {
   "cell_type": "markdown",
   "metadata": {
    "jp-MarkdownHeadingCollapsed": true
   },
   "source": [
    "## Validação Holdout em Problema Não-Linearmente Separável"
   ]
  },
  {
   "cell_type": "code",
   "execution_count": 6,
   "metadata": {},
   "outputs": [],
   "source": [
    "Xh = dataHoldout[:, :2]\n",
    "yh = dataHoldout[:, 2]"
   ]
  },
  {
   "cell_type": "code",
   "execution_count": 7,
   "metadata": {},
   "outputs": [],
   "source": [
    "np.random.seed(1)\n",
    "index = np.random.permutation(len(dataHoldout)) # shuffle nos dados\n",
    "split_index = int(0.7 * len(dataHoldout)) #split no 70/30"
   ]
  },
  {
   "cell_type": "code",
   "execution_count": 8,
   "metadata": {},
   "outputs": [],
   "source": [
    "train_index = index[:split_index]\n",
    "test_index = index[split_index:]\n",
    "\n",
    "train_data = dataHoldout[train_index]\n",
    "test_data = dataHoldout[test_index]"
   ]
  },
  {
   "cell_type": "code",
   "execution_count": 9,
   "metadata": {},
   "outputs": [],
   "source": [
    "Xh_train = train_data[:, :2]\n",
    "yh_train = train_data[:, 2]\n",
    "\n",
    "Xh_test = test_data[:, :2]\n",
    "yh_test = test_data[:, 2]\n"
   ]
  },
  {
   "cell_type": "markdown",
   "metadata": {},
   "source": [
    "### Treinando o Perceptron (Validação Holdout)"
   ]
  },
  {
   "cell_type": "code",
   "execution_count": 10,
   "metadata": {},
   "outputs": [
    {
     "name": "stdout",
     "output_type": "stream",
     "text": [
      "Época 1 finalizada. Pesos: [ -12.10997318  196.96314424 -222.10449475]\n",
      "Época 2 finalizada. Pesos: [ -20.60997318  178.79623403 -223.38667824]\n",
      "Época 3 finalizada. Pesos: [ -26.60997318  162.75295674 -223.19372556]\n",
      "Época 4 finalizada. Pesos: [ -30.80997318  147.96579611 -222.3015852 ]\n",
      "Época 5 finalizada. Pesos: [ -34.30997318  133.47797879 -221.30748611]\n",
      "Época 6 finalizada. Pesos: [ -36.70997318  119.74358647 -220.0343783 ]\n",
      "Época 7 finalizada. Pesos: [ -38.20997318  106.58601563 -218.60960755]\n",
      "Época 8 finalizada. Pesos: [ -39.40997318   93.80470173 -217.05861466]\n",
      "Época 9 finalizada. Pesos: [ -40.10997318   81.48765576 -215.40163141]\n",
      "Época 10 finalizada. Pesos: [ -40.20997318   69.66979744 -213.66480158]\n",
      "Época 11 finalizada. Pesos: [ -39.40997318   58.73568573 -211.80078376]\n",
      "Época 12 finalizada. Pesos: [ -37.40997318   48.9325441  -209.84929258]\n",
      "Época 13 finalizada. Pesos: [ -34.80997318   39.86269344 -207.83025301]\n",
      "Época 14 finalizada. Pesos: [ -31.60997318   31.49720617 -205.7773103 ]\n",
      "Época 15 finalizada. Pesos: [ -27.80997318   23.93919413 -203.68769094]\n",
      "Época 16 finalizada. Pesos: [ -23.90997318   16.93093669 -201.54196177]\n",
      "Época 17 finalizada. Pesos: [ -19.90997318   10.39868169 -199.36839355]\n",
      "Época 18 finalizada. Pesos: [ -16.00997318    4.19363697 -197.16474764]\n",
      "Época 19 finalizada. Pesos: [ -12.20997318   -1.73864784 -194.9447742 ]\n",
      "Época 20 finalizada. Pesos: [  -9.00997318   -7.3391424  -192.68827609]\n",
      "Época 21 finalizada. Pesos: [  -5.90997318  -12.63929318 -190.43544088]\n",
      "Época 22 finalizada. Pesos: [  -2.50997318  -17.35803104 -188.23145554]\n",
      "Época 23 finalizada. Pesos: [   0.29002682  -21.67854127 -186.05582243]\n",
      "Época 24 finalizada. Pesos: [   3.09002682  -25.71529888 -183.91175145]\n",
      "Época 25 finalizada. Pesos: [   5.99002682  -29.16667502 -181.84724789]\n",
      "Época 26 finalizada. Pesos: [   8.19002682  -32.61029134 -179.8067972 ]\n",
      "Época 27 finalizada. Pesos: [  10.49002682  -35.88905503 -177.79102439]\n",
      "Época 28 finalizada. Pesos: [  12.49002682  -39.04579786 -175.81725221]\n",
      "Época 29 finalizada. Pesos: [  14.59002682  -41.88507554 -173.90589821]\n",
      "Época 30 finalizada. Pesos: [  16.39002682  -44.41914039 -172.09566558]\n",
      "Época 31 finalizada. Pesos: [  18.29002682  -46.73629577 -170.33199478]\n",
      "Época 32 finalizada. Pesos: [  19.99002682  -49.11432452 -168.57280314]\n",
      "Época 33 finalizada. Pesos: [  21.19002682  -51.43603919 -166.88847482]\n",
      "Época 34 finalizada. Pesos: [  22.59002682  -53.47551203 -165.26621114]\n",
      "Época 35 finalizada. Pesos: [  23.99002682  -55.30541685 -163.71318039]\n",
      "Época 36 finalizada. Pesos: [  25.19002682  -57.20617718 -162.16519974]\n",
      "Época 37 finalizada. Pesos: [  26.59002682  -58.86992001 -160.66843104]\n",
      "Época 38 finalizada. Pesos: [  27.69002682  -60.47329596 -159.24355849]\n",
      "Época 39 finalizada. Pesos: [  28.99002682  -61.84535085 -157.8711533 ]\n",
      "Época 40 finalizada. Pesos: [  30.09002682  -63.21814497 -156.53507641]\n",
      "Época 41 finalizada. Pesos: [  31.09002682  -64.59197497 -155.2183579 ]\n",
      "Época 42 finalizada. Pesos: [  32.09002682  -65.84064381 -153.95399151]\n",
      "Época 43 finalizada. Pesos: [  33.09002682  -67.08931266 -152.68962511]\n",
      "Época 44 finalizada. Pesos: [  33.89002682  -68.10855232 -151.56752498]\n",
      "Época 45 finalizada. Pesos: [  34.59002682  -69.16180762 -150.45238615]\n",
      "Época 46 finalizada. Pesos: [  35.29002682  -70.21506291 -149.33724732]\n",
      "Época 47 finalizada. Pesos: [  36.09002682  -71.15512208 -148.25205898]\n",
      "Época 48 finalizada. Pesos: [  36.79002682  -72.08605396 -147.19563881]\n",
      "Época 49 finalizada. Pesos: [  37.29002682  -73.039581   -146.17808197]\n",
      "Época 50 finalizada. Pesos: [  37.69002682  -74.03033099 -145.1674556 ]\n",
      "Época 51 finalizada. Pesos: [  38.19002682  -74.98385803 -144.14989876]\n",
      "Época 52 finalizada. Pesos: [  38.69002682  -75.86677549 -143.16903355]\n",
      "Época 53 finalizada. Pesos: [  39.29002682  -76.64249498 -142.21844286]\n",
      "Época 54 finalizada. Pesos: [  39.79002682  -77.38507318 -141.31279922]\n",
      "Época 55 finalizada. Pesos: [  40.19002682  -78.21555323 -140.38696556]\n",
      "Época 56 finalizada. Pesos: [  40.59002682  -78.8569702  -139.56616463]\n",
      "Época 57 finalizada. Pesos: [  40.99002682  -79.40708747 -138.79681067]\n",
      "Época 58 finalizada. Pesos: [  41.39002682  -79.95720473 -138.02745672]\n",
      "Época 59 finalizada. Pesos: [  41.79002682  -80.50732199 -137.25810276]\n",
      "Época 60 finalizada. Pesos: [  42.19002682  -81.05743925 -136.48874881]\n",
      "Época 61 finalizada. Pesos: [  42.59002682  -81.60755652 -135.71939485]\n",
      "Época 62 finalizada. Pesos: [  42.99002682  -82.15767378 -134.9500409 ]\n",
      "Época 63 finalizada. Pesos: [  43.19002682  -82.70931434 -134.24297013]\n",
      "Época 64 finalizada. Pesos: [  43.39002682  -83.26095491 -133.53589937]\n",
      "Época 65 finalizada. Pesos: [  43.59002682  -83.81259547 -132.8288286 ]\n",
      "Época 66 finalizada. Pesos: [  43.79002682  -84.36423604 -132.12175783]\n",
      "Época 67 finalizada. Pesos: [  43.99002682  -84.8325056  -131.46786786]\n",
      "Época 68 finalizada. Pesos: [  44.09002682  -85.31755093 -130.83680895]\n",
      "Época 69 finalizada. Pesos: [  44.19002682  -85.80259627 -130.20575003]\n",
      "Época 70 finalizada. Pesos: [  44.29002682  -86.2876416  -129.57469112]\n",
      "Época 71 finalizada. Pesos: [  44.39002682  -86.77268693 -128.94363221]\n",
      "Época 72 finalizada. Pesos: [  44.49002682  -87.25773226 -128.3125733 ]\n",
      "Época 73 finalizada. Pesos: [  44.59002682  -87.7427776  -127.68151439]\n",
      "Época 74 finalizada. Pesos: [  44.79002682  -88.16132517 -127.06077004]\n",
      "Época 75 finalizada. Pesos: [  44.89002682  -88.55029252 -126.4962915 ]\n",
      "Época 76 finalizada. Pesos: [  44.99002682  -88.93925988 -125.93181297]\n",
      "Época 77 finalizada. Pesos: [  45.19002682  -89.23898863 -125.39475609]\n",
      "Época 78 finalizada. Pesos: [  45.39002682  -89.53871738 -124.8576992 ]\n",
      "Época 79 finalizada. Pesos: [  45.49002682  -89.85279376 -124.34657001]\n",
      "Época 80 finalizada. Pesos: [  45.59002682  -90.16687014 -123.83544081]\n",
      "Época 81 finalizada. Pesos: [  45.69002682  -90.48094652 -123.32431162]\n",
      "Época 82 finalizada. Pesos: [  45.79002682  -90.7950229  -122.81318242]\n",
      "Época 83 finalizada. Pesos: [  45.99002682  -91.05125179 -122.30781113]\n",
      "Época 84 finalizada. Pesos: [  46.09002682  -91.36532817 -121.79668194]\n",
      "Época 85 finalizada. Pesos: [  46.19002682  -91.67940454 -121.28555274]\n",
      "Época 86 finalizada. Pesos: [  46.29002682  -91.99348092 -120.77442354]\n",
      "Época 87 finalizada. Pesos: [  46.49002682  -92.24970981 -120.26905225]\n",
      "Época 88 finalizada. Pesos: [  46.69002682  -92.5059387  -119.76368096]\n",
      "Época 89 finalizada. Pesos: [  46.79002682  -92.77753926 -119.28538775]\n",
      "Época 90 finalizada. Pesos: [  46.89002682  -93.04913981 -118.80709453]\n",
      "Época 91 finalizada. Pesos: [  46.89002682  -93.37858785 -118.32304341]\n",
      "Época 92 finalizada. Pesos: [  46.99002682  -93.6501884  -117.8447502 ]\n",
      "Época 93 finalizada. Pesos: [  47.09002682  -93.92178895 -117.36645698]\n",
      "Época 94 finalizada. Pesos: [  47.19002682  -94.1933895  -116.88816377]\n",
      "Época 95 finalizada. Pesos: [  47.29002682  -94.46499005 -116.40987055]\n",
      "Época 96 finalizada. Pesos: [  47.39002682  -94.73659061 -115.93157733]\n",
      "Época 97 finalizada. Pesos: [  47.49002682  -94.94291361 -115.50636355]\n",
      "Época 98 finalizada. Pesos: [  47.69002682  -95.06433963 -115.10969776]\n",
      "Época 99 finalizada. Pesos: [  47.79002682  -95.17036816 -114.76709472]\n",
      "Época 100 finalizada. Pesos: [  47.89002682  -95.27639669 -114.42449168]\n",
      "Pesos: [  47.89002682  -95.27639669 -114.42449168]\n",
      "Total de ajustes: 7562\n"
     ]
    }
   ],
   "source": [
    "xh_train = np.insert(Xh_train, 0, 1, axis=1)\n",
    "\n",
    "holdoutAdjusts = 0\n",
    "max_epochs = 100\n",
    "\n",
    "for epoch in range(max_epochs):\n",
    "    index = np.random.permutation(len(xh_train))\n",
    "    xh_train_permuted = xh_train[index]\n",
    "    yh_train_permuted = yh_train[index]\n",
    "\n",
    "    for i in range(len(xh_train)):\n",
    "        u = np.dot(xh_train_permuted[i], p.w)\n",
    "        yh_predicted = activation.f(u)\n",
    "        error = yh_train_permuted[i] - yh_predicted\n",
    "\n",
    "        if error != 0:\n",
    "            p.w = p.w + p.learning_rate * error * xh_train_permuted[i]\n",
    "            holdoutAdjusts += 1\n",
    "\n",
    "    print(f'Época {epoch + 1} finalizada. Pesos: {p.w}')\n",
    "\n",
    "print(f'Pesos: {p.w}')\n",
    "print(f'Total de ajustes: {holdoutAdjusts}')\n"
   ]
  },
  {
   "cell_type": "code",
   "execution_count": null,
   "metadata": {},
   "outputs": [],
   "source": []
  }
 ],
 "metadata": {
  "kernelspec": {
   "display_name": "Python 3 (ipykernel)",
   "language": "python",
   "name": "python3"
  },
  "language_info": {
   "codemirror_mode": {
    "name": "ipython",
    "version": 3
   },
   "file_extension": ".py",
   "mimetype": "text/x-python",
   "name": "python",
   "nbconvert_exporter": "python",
   "pygments_lexer": "ipython3",
   "version": "3.13.2"
  }
 },
 "nbformat": 4,
 "nbformat_minor": 4
}
