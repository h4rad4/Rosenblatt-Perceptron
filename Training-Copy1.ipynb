{
 "cells": [
  {
   "cell_type": "markdown",
   "metadata": {},
   "source": [
    "Neste notebook, será implementado o algoritmo de treinamento do Perceptron."
   ]
  },
  {
   "cell_type": "code",
   "execution_count": 1,
   "metadata": {},
   "outputs": [],
   "source": [
    "import numpy as np\n",
    "import pandas as pd\n",
    "from Perceptron import Perceptron\n",
    "from Activation import Degree"
   ]
  },
  {
   "cell_type": "markdown",
   "metadata": {},
   "source": [
    "# Dataset"
   ]
  },
  {
   "cell_type": "markdown",
   "metadata": {},
   "source": [
    "O arquivo de exemplos utilizado será 'data1.txt', conforme o cálculo do identificador da equipe a seguir:\n",
    "\n",
    "I. $matA + matB + matC + matD = 17$\n",
    "\n",
    "II. $17 \\bmod 4 = 1$\n"
   ]
  },
  {
   "cell_type": "code",
   "execution_count": 2,
   "metadata": {},
   "outputs": [
    {
     "data": {
      "text/plain": [
       "(array([-363.7884,  244.1423,    0.    , ..., -140.147 ,  734.0983,\n",
       "           0.    ], shape=(3000,)),\n",
       " array([-0.29322959, -0.09065359,  1.        , ...,  0.72930655,\n",
       "         0.93224271,  0.        ], shape=(2400,)))"
      ]
     },
     "execution_count": 2,
     "metadata": {},
     "output_type": "execute_result"
    }
   ],
   "source": [
    "examples = 'data/dataAll.txt'\n",
    "examplesHoldout = 'data/dataHoldout.txt'\n",
    "nparray = np.fromfile(examples)\n",
    "hlarray = np.fromfile(examplesHoldout)\n",
    "\n",
    "nparray, hlarray"
   ]
  },
  {
   "cell_type": "code",
   "execution_count": 3,
   "metadata": {},
   "outputs": [
    {
     "data": {
      "text/plain": [
       "(array([[-363.7884,  244.1423,    0.    ],\n",
       "        [ 328.7572, -256.7658,    1.    ],\n",
       "        [-164.9827,  613.2164,    0.    ],\n",
       "        ...,\n",
       "        [ 872.4311,  669.1192,    1.    ],\n",
       "        [ 822.6894, -702.6489,    1.    ],\n",
       "        [-140.147 ,  734.0983,    0.    ]], shape=(1000, 3)),\n",
       " array([[-0.29322959, -0.09065359,  1.        ],\n",
       "        [ 0.07988839,  0.21101297,  1.        ],\n",
       "        [-0.07825563, -0.08083512,  1.        ],\n",
       "        ...,\n",
       "        [ 0.65980493,  1.05876739,  0.        ],\n",
       "        [ 1.09867123,  0.87404891,  0.        ],\n",
       "        [ 0.72930655,  0.93224271,  0.        ]], shape=(800, 3)))"
      ]
     },
     "execution_count": 3,
     "metadata": {},
     "output_type": "execute_result"
    }
   ],
   "source": [
    "# Formatando o array de entrada\n",
    "data = nparray.reshape(1000,3)\n",
    "dataHoldout = hlarray.reshape(800,3)\n",
    "data, dataHoldout"
   ]
  },
  {
   "cell_type": "code",
   "execution_count": 4,
   "metadata": {},
   "outputs": [
    {
     "name": "stdout",
     "output_type": "stream",
     "text": [
      "X: [[-363.7884  244.1423]\n",
      " [ 328.7572 -256.7658]\n",
      " [-164.9827  613.2164]\n",
      " [ 536.5905  764.9575]\n",
      " [ 314.2297  343.8375]]\n",
      "\n",
      "Y: [0. 1. 0. 0. 0.]\n"
     ]
    }
   ],
   "source": [
    "X = data[:, :2]\n",
    "y = data[:, 2]\n",
    "\n",
    "print(f'X: {X[:5]}\\n')\n",
    "print(f'Y: {y[:5]}')"
   ]
  },
  {
   "cell_type": "code",
   "execution_count": 5,
   "metadata": {},
   "outputs": [
    {
     "name": "stdout",
     "output_type": "stream",
     "text": [
      "[ -0.20997318  36.12338879 -24.61167692]\n",
      "[  -0.30997318  -17.53566121 -101.10742692]\n",
      "[ -0.20997318  55.26035879 -65.27786692]\n",
      "[-1.09973185e-01  1.37859059e+02  1.45779631e+01]\n",
      "[ -0.20997318 143.70481879 -63.71662692]\n",
      "[  -0.30997318  103.69590879 -141.60931692]\n",
      "[ -0.40997318 157.36571879 -92.51704692]\n",
      "[  -0.30997318  104.40565879 -149.38650692]\n",
      "[ -0.40997318 163.96517879 -99.26417692]\n",
      "[  -0.30997318  118.44054879 -164.90010692]\n",
      "[ -0.40997318 209.15640879 -90.18678692]\n",
      "[  -0.30997318  151.37541879 -150.49493692]\n",
      "[  -0.20997318  103.10885879 -198.96465692]\n",
      "[-1.09973185e-01  1.73556209e+02 -1.56848387e+02]\n",
      "[-9.97318462e-03  1.26714209e+02 -2.08258257e+02]\n",
      "[ 9.00268154e-02  1.96577839e+02 -1.44039317e+02]\n",
      "[-9.97318462e-03  1.40742109e+02 -2.00216847e+02]\n",
      "[ 9.00268154e-02  2.17729579e+02 -1.35367517e+02]\n",
      "[   0.19002682  181.45953879 -178.59555692]\n",
      "[ 9.00268154e-02  1.63220399e+02 -1.96929197e+02]\n",
      "[ 1.90026815e-01  2.38642839e+02 -1.30874087e+02]\n",
      "[   0.29002682  174.28370879 -213.29652692]\n",
      "[ 1.90026815e-01  2.65591919e+02 -1.30025757e+02]\n",
      "[   0.29002682  218.54708879 -217.92969692]\n",
      "Convergência em 2 épocas\n",
      "24 ajustes feitos\n"
     ]
    }
   ],
   "source": [
    "p= Perceptron()\n",
    "activation= Degree()\n",
    "\n",
    "x = np.insert(X, 0, 1, axis=1) # inserindo o viés\n",
    "\n",
    "epoch= 0\n",
    "convergence= False\n",
    "adjusts = 0\n",
    "\n",
    "while not convergence:\n",
    "    convergence = True\n",
    "    \n",
    "\n",
    "    for i in range(len(X)):\n",
    "        u = np.dot(x[i], p.w)\n",
    "\n",
    "        y_predicted = activation.f(u)\n",
    "        error = y[i] - y_predicted\n",
    "        \n",
    "        \n",
    "        if error != 0:\n",
    "            convergence = False\n",
    "            p.w = p.w + p.learning_rate * error * x[i]\n",
    "            print(p.w)\n",
    "            adjusts += 1\n",
    "        \n",
    "\n",
    "    epoch += 1\n",
    "\n",
    "print(f'Convergência em {epoch} épocas')\n",
    "print(f'{adjusts} ajustes feitos')"
   ]
  },
  {
   "cell_type": "markdown",
   "metadata": {},
   "source": [
    "Validação Holdout em Problema Não-Linearmente Separável"
   ]
  },
  {
   "cell_type": "code",
   "execution_count": 6,
   "metadata": {},
   "outputs": [],
   "source": [
    "Xh = dataHoldout[:, :2]\n",
    "yh = dataHoldout[:, 2]"
   ]
  },
  {
   "cell_type": "code",
   "execution_count": 7,
   "metadata": {},
   "outputs": [],
   "source": [
    "np.random.seed(1)\n",
    "index = np.random.permutation(len(dataHoldout)) # shuffle nos dados\n",
    "split_index = int(0.7 * len(dataHoldout)) #split no 70/30"
   ]
  },
  {
   "cell_type": "code",
   "execution_count": 8,
   "metadata": {},
   "outputs": [],
   "source": [
    "train_index = index[:split_index]\n",
    "test_index = index[split_index:]\n",
    "\n",
    "train_data = dataHoldout[train_index]\n",
    "test_data = dataHoldout[test_index]"
   ]
  },
  {
   "cell_type": "code",
   "execution_count": 9,
   "metadata": {},
   "outputs": [],
   "source": [
    "Xh_train = train_data[:, :2]\n",
    "yh_train = train_data[:, 2]\n",
    "\n",
    "Xh_test = test_data[:, :2]\n",
    "yh_test = test_data[:, 2]\n"
   ]
  },
  {
   "cell_type": "markdown",
   "metadata": {},
   "source": [
    "Treinando o Perceptron (Validação Holdout)"
   ]
  },
  {
   "cell_type": "code",
   "execution_count": 10,
   "metadata": {},
   "outputs": [
    {
     "name": "stdout",
     "output_type": "stream",
     "text": [
      "Época 1 finalizada. Pesos: [ -12.10997318  196.96314424 -222.10449475]\n",
      "Época 2 finalizada. Pesos: [ -20.60997318  178.79623403 -223.38667824]\n",
      "Época 3 finalizada. Pesos: [ -26.60997318  162.75295674 -223.19372556]\n",
      "Época 4 finalizada. Pesos: [ -30.80997318  147.96579611 -222.3015852 ]\n",
      "Época 5 finalizada. Pesos: [ -34.30997318  133.47797879 -221.30748611]\n",
      "Época 6 finalizada. Pesos: [ -36.70997318  119.74358647 -220.0343783 ]\n",
      "Época 7 finalizada. Pesos: [ -38.20997318  106.58601563 -218.60960755]\n",
      "Época 8 finalizada. Pesos: [ -39.40997318   93.80470173 -217.05861466]\n",
      "Época 9 finalizada. Pesos: [ -40.10997318   81.48765576 -215.40163141]\n",
      "Época 10 finalizada. Pesos: [ -40.20997318   69.66979744 -213.66480158]\n",
      "Época 11 finalizada. Pesos: [ -39.40997318   58.73568573 -211.80078376]\n",
      "Época 12 finalizada. Pesos: [ -37.40997318   48.9325441  -209.84929258]\n",
      "Época 13 finalizada. Pesos: [ -34.80997318   39.86269344 -207.83025301]\n",
      "Época 14 finalizada. Pesos: [ -31.60997318   31.49720617 -205.7773103 ]\n",
      "Época 15 finalizada. Pesos: [ -27.80997318   23.93919413 -203.68769094]\n",
      "Época 16 finalizada. Pesos: [ -23.90997318   16.93093669 -201.54196177]\n",
      "Época 17 finalizada. Pesos: [ -19.90997318   10.39868169 -199.36839355]\n",
      "Época 18 finalizada. Pesos: [ -16.00997318    4.19363697 -197.16474764]\n",
      "Época 19 finalizada. Pesos: [ -12.20997318   -1.73864784 -194.9447742 ]\n",
      "Época 20 finalizada. Pesos: [  -9.00997318   -7.3391424  -192.68827609]\n",
      "Época 21 finalizada. Pesos: [  -5.90997318  -12.63929318 -190.43544088]\n",
      "Época 22 finalizada. Pesos: [  -2.50997318  -17.35803104 -188.23145554]\n",
      "Época 23 finalizada. Pesos: [   0.29002682  -21.67854127 -186.05582243]\n",
      "Época 24 finalizada. Pesos: [   3.09002682  -25.71529888 -183.91175145]\n",
      "Época 25 finalizada. Pesos: [   5.99002682  -29.16667502 -181.84724789]\n",
      "Época 26 finalizada. Pesos: [   8.19002682  -32.61029134 -179.8067972 ]\n",
      "Época 27 finalizada. Pesos: [  10.49002682  -35.88905503 -177.79102439]\n",
      "Época 28 finalizada. Pesos: [  12.49002682  -39.04579786 -175.81725221]\n",
      "Época 29 finalizada. Pesos: [  14.59002682  -41.88507554 -173.90589821]\n",
      "Época 30 finalizada. Pesos: [  16.39002682  -44.41914039 -172.09566558]\n",
      "Época 31 finalizada. Pesos: [  18.29002682  -46.73629577 -170.33199478]\n",
      "Época 32 finalizada. Pesos: [  19.99002682  -49.11432452 -168.57280314]\n",
      "Época 33 finalizada. Pesos: [  21.19002682  -51.43603919 -166.88847482]\n",
      "Época 34 finalizada. Pesos: [  22.59002682  -53.47551203 -165.26621114]\n",
      "Época 35 finalizada. Pesos: [  23.99002682  -55.30541685 -163.71318039]\n",
      "Época 36 finalizada. Pesos: [  25.19002682  -57.20617718 -162.16519974]\n",
      "Época 37 finalizada. Pesos: [  26.59002682  -58.86992001 -160.66843104]\n",
      "Época 38 finalizada. Pesos: [  27.69002682  -60.47329596 -159.24355849]\n",
      "Época 39 finalizada. Pesos: [  28.99002682  -61.84535085 -157.8711533 ]\n",
      "Época 40 finalizada. Pesos: [  30.09002682  -63.21814497 -156.53507641]\n",
      "Época 41 finalizada. Pesos: [  31.09002682  -64.59197497 -155.2183579 ]\n",
      "Época 42 finalizada. Pesos: [  32.09002682  -65.84064381 -153.95399151]\n",
      "Época 43 finalizada. Pesos: [  33.09002682  -67.08931266 -152.68962511]\n",
      "Época 44 finalizada. Pesos: [  33.89002682  -68.10855232 -151.56752498]\n",
      "Época 45 finalizada. Pesos: [  34.59002682  -69.16180762 -150.45238615]\n",
      "Época 46 finalizada. Pesos: [  35.29002682  -70.21506291 -149.33724732]\n",
      "Época 47 finalizada. Pesos: [  36.09002682  -71.15512208 -148.25205898]\n",
      "Época 48 finalizada. Pesos: [  36.79002682  -72.08605396 -147.19563881]\n",
      "Época 49 finalizada. Pesos: [  37.29002682  -73.039581   -146.17808197]\n",
      "Época 50 finalizada. Pesos: [  37.69002682  -74.03033099 -145.1674556 ]\n",
      "Época 51 finalizada. Pesos: [  38.19002682  -74.98385803 -144.14989876]\n",
      "Época 52 finalizada. Pesos: [  38.69002682  -75.86677549 -143.16903355]\n",
      "Época 53 finalizada. Pesos: [  39.29002682  -76.64249498 -142.21844286]\n",
      "Época 54 finalizada. Pesos: [  39.79002682  -77.38507318 -141.31279922]\n",
      "Época 55 finalizada. Pesos: [  40.19002682  -78.21555323 -140.38696556]\n",
      "Época 56 finalizada. Pesos: [  40.59002682  -78.8569702  -139.56616463]\n",
      "Época 57 finalizada. Pesos: [  40.99002682  -79.40708747 -138.79681067]\n",
      "Época 58 finalizada. Pesos: [  41.39002682  -79.95720473 -138.02745672]\n",
      "Época 59 finalizada. Pesos: [  41.79002682  -80.50732199 -137.25810276]\n",
      "Época 60 finalizada. Pesos: [  42.19002682  -81.05743925 -136.48874881]\n",
      "Época 61 finalizada. Pesos: [  42.59002682  -81.60755652 -135.71939485]\n",
      "Época 62 finalizada. Pesos: [  42.99002682  -82.15767378 -134.9500409 ]\n",
      "Época 63 finalizada. Pesos: [  43.19002682  -82.70931434 -134.24297013]\n",
      "Época 64 finalizada. Pesos: [  43.39002682  -83.26095491 -133.53589937]\n",
      "Época 65 finalizada. Pesos: [  43.59002682  -83.81259547 -132.8288286 ]\n",
      "Época 66 finalizada. Pesos: [  43.79002682  -84.36423604 -132.12175783]\n",
      "Época 67 finalizada. Pesos: [  43.99002682  -84.8325056  -131.46786786]\n",
      "Época 68 finalizada. Pesos: [  44.09002682  -85.31755093 -130.83680895]\n",
      "Época 69 finalizada. Pesos: [  44.19002682  -85.80259627 -130.20575003]\n",
      "Época 70 finalizada. Pesos: [  44.29002682  -86.2876416  -129.57469112]\n",
      "Época 71 finalizada. Pesos: [  44.39002682  -86.77268693 -128.94363221]\n",
      "Época 72 finalizada. Pesos: [  44.49002682  -87.25773226 -128.3125733 ]\n",
      "Época 73 finalizada. Pesos: [  44.59002682  -87.7427776  -127.68151439]\n",
      "Época 74 finalizada. Pesos: [  44.79002682  -88.16132517 -127.06077004]\n",
      "Época 75 finalizada. Pesos: [  44.89002682  -88.55029252 -126.4962915 ]\n",
      "Época 76 finalizada. Pesos: [  44.99002682  -88.93925988 -125.93181297]\n",
      "Época 77 finalizada. Pesos: [  45.19002682  -89.23898863 -125.39475609]\n",
      "Época 78 finalizada. Pesos: [  45.39002682  -89.53871738 -124.8576992 ]\n",
      "Época 79 finalizada. Pesos: [  45.49002682  -89.85279376 -124.34657001]\n",
      "Época 80 finalizada. Pesos: [  45.59002682  -90.16687014 -123.83544081]\n",
      "Época 81 finalizada. Pesos: [  45.69002682  -90.48094652 -123.32431162]\n",
      "Época 82 finalizada. Pesos: [  45.79002682  -90.7950229  -122.81318242]\n",
      "Época 83 finalizada. Pesos: [  45.99002682  -91.05125179 -122.30781113]\n",
      "Época 84 finalizada. Pesos: [  46.09002682  -91.36532817 -121.79668194]\n",
      "Época 85 finalizada. Pesos: [  46.19002682  -91.67940454 -121.28555274]\n",
      "Época 86 finalizada. Pesos: [  46.29002682  -91.99348092 -120.77442354]\n",
      "Época 87 finalizada. Pesos: [  46.49002682  -92.24970981 -120.26905225]\n",
      "Época 88 finalizada. Pesos: [  46.69002682  -92.5059387  -119.76368096]\n",
      "Época 89 finalizada. Pesos: [  46.79002682  -92.77753926 -119.28538775]\n",
      "Época 90 finalizada. Pesos: [  46.89002682  -93.04913981 -118.80709453]\n",
      "Época 91 finalizada. Pesos: [  46.89002682  -93.37858785 -118.32304341]\n",
      "Época 92 finalizada. Pesos: [  46.99002682  -93.6501884  -117.8447502 ]\n",
      "Época 93 finalizada. Pesos: [  47.09002682  -93.92178895 -117.36645698]\n",
      "Época 94 finalizada. Pesos: [  47.19002682  -94.1933895  -116.88816377]\n",
      "Época 95 finalizada. Pesos: [  47.29002682  -94.46499005 -116.40987055]\n",
      "Época 96 finalizada. Pesos: [  47.39002682  -94.73659061 -115.93157733]\n",
      "Época 97 finalizada. Pesos: [  47.49002682  -94.94291361 -115.50636355]\n",
      "Época 98 finalizada. Pesos: [  47.69002682  -95.06433963 -115.10969776]\n",
      "Época 99 finalizada. Pesos: [  47.79002682  -95.17036816 -114.76709472]\n",
      "Época 100 finalizada. Pesos: [  47.89002682  -95.27639669 -114.42449168]\n",
      "Pesos: [  47.89002682  -95.27639669 -114.42449168]\n",
      "Total de ajustes: 7562\n"
     ]
    }
   ],
   "source": [
    "xh_train = np.insert(Xh_train, 0, 1, axis=1)\n",
    "\n",
    "holdoutAdjusts = 0\n",
    "max_epochs = 100\n",
    "\n",
    "for epoch in range(max_epochs):\n",
    "    index = np.random.permutation(len(xh_train))\n",
    "    xh_train_permuted = xh_train[index]\n",
    "    yh_train_permuted = yh_train[index]\n",
    "\n",
    "    for i in range(len(xh_train)):\n",
    "        u = np.dot(xh_train_permuted[i], p.w)\n",
    "        yh_predicted = activation.f(u)\n",
    "        error = yh_train_permuted[i] - yh_predicted\n",
    "\n",
    "        if error != 0:\n",
    "            p.w = p.w + p.learning_rate * error * xh_train_permuted[i]\n",
    "            holdoutAdjusts += 1\n",
    "\n",
    "    print(f'Época {epoch + 1} finalizada. Pesos: {p.w}')\n",
    "\n",
    "print(f'Pesos: {p.w}')\n",
    "print(f'Total de ajustes: {holdoutAdjusts}')\n"
   ]
  },
  {
   "cell_type": "code",
   "execution_count": null,
   "metadata": {},
   "outputs": [],
   "source": []
  }
 ],
 "metadata": {
  "kernelspec": {
   "display_name": "Python 3 (ipykernel)",
   "language": "python",
   "name": "python3"
  },
  "language_info": {
   "codemirror_mode": {
    "name": "ipython",
    "version": 3
   },
   "file_extension": ".py",
   "mimetype": "text/x-python",
   "name": "python",
   "nbconvert_exporter": "python",
   "pygments_lexer": "ipython3",
   "version": "3.13.2"
  }
 },
 "nbformat": 4,
 "nbformat_minor": 4
}
