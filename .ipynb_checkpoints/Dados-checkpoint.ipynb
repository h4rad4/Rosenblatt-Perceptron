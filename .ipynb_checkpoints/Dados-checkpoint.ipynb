{
 "cells": [
  {
   "cell_type": "code",
   "execution_count": null,
   "id": "1a224735-d0c2-4e8a-a0ab-b290b409e913",
   "metadata": {},
   "outputs": [],
   "source": [
    "import pandas as pd\n",
    "import numpy as np"
   ]
  },
  {
   "cell_type": "code",
   "execution_count": null,
   "id": "91ef39e0-1d19-471a-acc4-b8945a3b88a8",
   "metadata": {},
   "outputs": [],
   "source": [
    "\n",
    "# Caminho do arquivo com dados binários\n",
    "arquivo_binario = 'data/dataAll.txt'\n",
    "\n",
    "nparray = np.fromfile(arquivo_binario)\n",
    "dados = nparray.reshape(1000, 1,3)"
   ]
  },
  {
   "cell_type": "code",
   "execution_count": null,
   "id": "8ba52dab-0daf-42d4-abf0-5d1527b9a9c8",
   "metadata": {},
   "outputs": [],
   "source": []
  }
 ],
 "metadata": {
  "kernelspec": {
   "display_name": "Python 3 (ipykernel)",
   "language": "python",
   "name": "python3"
  },
  "language_info": {
   "codemirror_mode": {
    "name": "ipython",
    "version": 3
   },
   "file_extension": ".py",
   "mimetype": "text/x-python",
   "name": "python",
   "nbconvert_exporter": "python",
   "pygments_lexer": "ipython3",
   "version": "3.13.2"
  }
 },
 "nbformat": 4,
 "nbformat_minor": 5
}
