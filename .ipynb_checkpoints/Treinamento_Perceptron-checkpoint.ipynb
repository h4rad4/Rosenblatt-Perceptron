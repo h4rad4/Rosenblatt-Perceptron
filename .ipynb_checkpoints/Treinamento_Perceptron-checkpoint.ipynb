{
 "cells": [
  {
   "cell_type": "code",
   "execution_count": 1,
   "id": "ac4b1875-b4f2-4af0-a911-fcf162a76135",
   "metadata": {},
   "outputs": [],
   "source": [
    "%run Dados.ipynb"
   ]
  },
  {
   "cell_type": "code",
   "execution_count": null,
   "id": "0fa76950-8f34-4436-8f66-db99d1232dd1",
   "metadata": {},
   "outputs": [],
   "source": [
    "!pip install matplotlib scikit-learn"
   ]
  },
  {
   "cell_type": "code",
   "execution_count": null,
   "id": "3f248dbe-bd70-46c9-9456-0164dda62bd2",
   "metadata": {},
   "outputs": [],
   "source": [
    "import pandas as pd\n",
    "import matplotlib.pyplot as plt\n",
    "import sklearn"
   ]
  },
  {
   "cell_type": "code",
   "execution_count": null,
   "id": "1116ff95-98b0-4311-ab50-636ace96257b",
   "metadata": {},
   "outputs": [],
   "source": [
    "print(dados)"
   ]
  },
  {
   "cell_type": "code",
   "execution_count": null,
   "id": "27a68695-9d34-4343-9274-4a2ca249f83f",
   "metadata": {},
   "outputs": [],
   "source": [
    "dadosReshape = dados.reshape (1000,3)"
   ]
  },
  {
   "cell_type": "code",
   "execution_count": null,
   "id": "c5162fb1-0d0a-406f-bca9-de3458f6f18f",
   "metadata": {},
   "outputs": [],
   "source": [
    "df = pd.DataFrame (dadosReshape)"
   ]
  },
  {
   "cell_type": "code",
   "execution_count": null,
   "id": "6c99ca7f-4101-48f2-b9c3-ccc260813952",
   "metadata": {},
   "outputs": [],
   "source": [
    "df"
   ]
  },
  {
   "cell_type": "code",
   "execution_count": null,
   "id": "c1f08724-01de-48c8-a898-6e93297f869e",
   "metadata": {},
   "outputs": [],
   "source": [
    "X = dadosReshape[:, :2]\n",
    "y = dadosReshape[:, 2]"
   ]
  },
  {
   "cell_type": "code",
   "execution_count": null,
   "id": "4a06a853-aad6-4509-974b-8d516b338144",
   "metadata": {},
   "outputs": [],
   "source": [
    "X = np.hstack((X, -1 * np.ones((X.shape[0], 1))))"
   ]
  },
  {
   "cell_type": "markdown",
   "id": "7748724b-36b5-4856-b8dc-99da549485c9",
   "metadata": {},
   "source": [
    "Inicializando os Pesos"
   ]
  },
  {
   "cell_type": "markdown",
   "id": "b6d3962b-ba0b-40be-8051-eed7923c52d8",
   "metadata": {},
   "source": [
    "Função Degrau"
   ]
  },
  {
   "cell_type": "code",
   "execution_count": null,
   "id": "061065d8-fb4e-48c9-840e-8bb2df5f6970",
   "metadata": {},
   "outputs": [],
   "source": [
    "def step_function(u):\n",
    "    return 1 if u >= 0 else 0"
   ]
  },
  {
   "cell_type": "markdown",
   "id": "970981d2-435e-4705-8e64-25df36fd8d2c",
   "metadata": {},
   "source": [
    "Treinamento"
   ]
  },
  {
   "cell_type": "code",
   "execution_count": null,
   "id": "e636a9a9-cffd-4fac-815e-05527301043b",
   "metadata": {},
   "outputs": [],
   "source": [
    "def treinamento_perceptron(X, y):\n",
    "\n",
    "    np.random.seed(69)\n",
    "    pesos = np.random.uniform(-0.5, 0.5, X.shape[1]) # tem q ser rodado no começo do algoritmo\n",
    "    aprendizado = 0.1\n",
    "    convergencia = False\n",
    "    epoca = 0\n",
    "    # aqui eh a função delta -> \n",
    "    while not convergencia:\n",
    "        convergencia = True\n",
    "        erros = 0\n",
    "    \n",
    "        for i in range(len(X)): \n",
    "            u = np.dot(X[i], pesos)\n",
    "            y_previsao = step_function(u)\n",
    "    \n",
    "    \n",
    "            erro = y[i] - y_previsao\n",
    "    \n",
    "            if erro !=0:\n",
    "                convergencia = False\n",
    "                erros += 1\n",
    "                pesos += aprendizado * erro * X[i]\n",
    "    \n",
    "        epoca += 1\n",
    "    \n",
    "    return pesos, epoca"
   ]
  },
  {
   "cell_type": "code",
   "execution_count": null,
   "id": "a39cc37f-e290-462c-9389-eb462bf9ec8d",
   "metadata": {},
   "outputs": [],
   "source": [
    "pesos, epocas = treinamento_perceptron(X, y)\n",
    "\n",
    "epocas"
   ]
  }
 ],
 "metadata": {
  "kernelspec": {
   "display_name": "Python 3 (ipykernel)",
   "language": "python",
   "name": "python3"
  },
  "language_info": {
   "codemirror_mode": {
    "name": "ipython",
    "version": 3
   },
   "file_extension": ".py",
   "mimetype": "text/x-python",
   "name": "python",
   "nbconvert_exporter": "python",
   "pygments_lexer": "ipython3",
   "version": "3.13.2"
  }
 },
 "nbformat": 4,
 "nbformat_minor": 5
}
