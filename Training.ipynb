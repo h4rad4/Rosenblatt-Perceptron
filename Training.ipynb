{
 "cells": [
  {
   "cell_type": "markdown",
   "metadata": {},
   "source": [
    "Neste notebook, será implementado o algoritmo de treinamento do Perceptron."
   ]
  },
  {
   "cell_type": "code",
   "execution_count": 1,
   "metadata": {},
   "outputs": [],
   "source": [
    "import numpy as np\n",
    "import pandas as pd\n",
    "from Perceptron import Perceptron\n",
    "from Activation import Degree"
   ]
  },
  {
   "cell_type": "markdown",
   "metadata": {},
   "source": [
    "# Dataset"
   ]
  },
  {
   "cell_type": "markdown",
   "metadata": {},
   "source": [
    "O arquivo de exemplos utilizado será 'data1.txt', conforme o cálculo do identificador da equipe a seguir:\n",
    "\n",
    "I. $matA + matB + matC + matD = 17$\n",
    "\n",
    "II. $17 \\bmod 4 = 1$\n"
   ]
  },
  {
   "cell_type": "code",
   "execution_count": 2,
   "metadata": {},
   "outputs": [
    {
     "data": {
      "text/plain": [
       "array([-363.7884,  244.1423,    0.    , ..., -140.147 ,  734.0983,\n",
       "          0.    ], shape=(3000,))"
      ]
     },
     "execution_count": 2,
     "metadata": {},
     "output_type": "execute_result"
    }
   ],
   "source": [
    "examples = 'data/dataAll.txt'\n",
    "nparray = np.fromfile(examples)\n",
    "nparray"
   ]
  },
  {
   "cell_type": "code",
   "execution_count": 3,
   "metadata": {},
   "outputs": [
    {
     "data": {
      "text/plain": [
       "array([[-363.7884,  244.1423,    0.    ],\n",
       "       [ 328.7572, -256.7658,    1.    ],\n",
       "       [-164.9827,  613.2164,    0.    ],\n",
       "       ...,\n",
       "       [ 872.4311,  669.1192,    1.    ],\n",
       "       [ 822.6894, -702.6489,    1.    ],\n",
       "       [-140.147 ,  734.0983,    0.    ]], shape=(1000, 3))"
      ]
     },
     "execution_count": 3,
     "metadata": {},
     "output_type": "execute_result"
    }
   ],
   "source": [
    "# Formatando o array de entrada\n",
    "data = nparray.reshape(1000,3)\n",
    "data"
   ]
  },
  {
   "cell_type": "code",
   "execution_count": 4,
   "metadata": {},
   "outputs": [
    {
     "name": "stdout",
     "output_type": "stream",
     "text": [
      "X: [[-363.7884  244.1423]\n",
      " [ 328.7572 -256.7658]\n",
      " [-164.9827  613.2164]\n",
      " [ 536.5905  764.9575]\n",
      " [ 314.2297  343.8375]]\n",
      "\n",
      "Y: [0. 1. 0. 0. 0.]\n"
     ]
    }
   ],
   "source": [
    "X = data[:, :2]\n",
    "y = data[:, 2]\n",
    "\n",
    "print(f'X: {X[:5]}\\n')\n",
    "print(f'Y: {y[:5]}')"
   ]
  },
  {
   "cell_type": "code",
   "execution_count": 5,
   "metadata": {},
   "outputs": [
    {
     "name": "stdout",
     "output_type": "stream",
     "text": [
      "Erro 1 ou -1\n",
      "[ -0.52613745  36.06385425 -24.27880182]\n",
      "Erro 1 ou -1\n",
      "[  -0.62613745  -17.59519575 -100.77455182]\n",
      "Erro 1 ou -1\n",
      "[ -0.52613745  55.20082425 -64.94499182]\n",
      "Erro 1 ou -1\n",
      "[ -0.42613745 137.79952425  14.91083818]\n",
      "Erro 1 ou -1\n",
      "[ -0.52613745 143.64528425 -63.38375182]\n",
      "Erro 1 ou -1\n",
      "[  -0.62613745  103.63637425 -141.27644182]\n",
      "Erro 1 ou -1\n",
      "[ -0.72613745 157.30618425 -92.18417182]\n",
      "Erro 1 ou -1\n",
      "[  -0.62613745  104.34612425 -149.05363182]\n",
      "Erro 1 ou -1\n",
      "[ -0.72613745 163.90564425 -98.93130182]\n",
      "Erro 1 ou -1\n",
      "[  -0.62613745  118.38101425 -164.56723182]\n",
      "Erro 1 ou -1\n",
      "[ -0.72613745 209.09687425 -89.85391182]\n",
      "Erro 1 ou -1\n",
      "[  -0.62613745  151.31588425 -150.16206182]\n",
      "Erro 1 ou -1\n",
      "[  -0.52613745  103.04932425 -198.63178182]\n",
      "Erro 1 ou -1\n",
      "[  -0.42613745  173.49667425 -156.51551182]\n",
      "Erro 1 ou -1\n",
      "[  -0.32613745  126.65467425 -207.92538182]\n",
      "Erro 1 ou -1\n",
      "[  -0.22613745  196.51830425 -143.70644182]\n",
      "Erro 1 ou -1\n",
      "[  -0.32613745  140.68257425 -199.88397182]\n",
      "Erro 1 ou -1\n",
      "[  -0.22613745  217.67004425 -135.03464182]\n",
      "Erro 1 ou -1\n",
      "[-1.26137450e-01  1.81400004e+02 -1.78262682e+02]\n",
      "Erro 1 ou -1\n",
      "[  -0.22613745  163.16086425 -196.59632182]\n",
      "Erro 1 ou -1\n",
      "[-1.26137450e-01  2.38583304e+02 -1.30541212e+02]\n",
      "Erro 1 ou -1\n",
      "[-2.61374501e-02  1.74224174e+02 -2.12963652e+02]\n",
      "Erro 1 ou -1\n",
      "[-1.26137450e-01  2.65532384e+02 -1.29692882e+02]\n",
      "Erro 1 ou -1\n",
      "[-2.61374501e-02  2.18487554e+02 -2.17596822e+02]\n",
      "Convergência em 2 épocas\n",
      "24 ajustes feitos\n"
     ]
    }
   ],
   "source": [
    "p= Perceptron()\n",
    "activation= Degree()\n",
    "\n",
    "x = np.insert(X, 0, 1, axis=1) # inserindo o viés\n",
    "\n",
    "epoch= 0\n",
    "convergence= False\n",
    "adjusts = 0\n",
    "\n",
    "while not convergence:\n",
    "    convergence = True\n",
    "    \n",
    "\n",
    "    for i in range(len(X)):\n",
    "        u = np.dot(x[i], p.w)\n",
    "\n",
    "        y_predicted = activation.f(u)\n",
    "        error = y[i] - y_predicted\n",
    "        \n",
    "        \n",
    "        if error != 0:\n",
    "            convergence = False\n",
    "            p.w = p.w + p.learning_rate * error * x[i]\n",
    "            print(p.w)\n",
    "            adjusts += 1\n",
    "        \n",
    "\n",
    "    epoch += 1\n",
    "\n",
    "print(f'Convergência em {epoch} épocas')\n",
    "print(f'{adjusts} ajustes feitos')"
   ]
  },
  {
   "cell_type": "code",
   "execution_count": null,
   "metadata": {},
   "outputs": [],
   "source": []
  }
 ],
 "metadata": {
  "kernelspec": {
   "display_name": "Python 3 (ipykernel)",
   "language": "python",
   "name": "python3"
  },
  "language_info": {
   "codemirror_mode": {
    "name": "ipython",
    "version": 3
   },
   "file_extension": ".py",
   "mimetype": "text/x-python",
   "name": "python",
   "nbconvert_exporter": "python",
   "pygments_lexer": "ipython3",
   "version": "3.13.2"
  }
 },
 "nbformat": 4,
 "nbformat_minor": 4
}
